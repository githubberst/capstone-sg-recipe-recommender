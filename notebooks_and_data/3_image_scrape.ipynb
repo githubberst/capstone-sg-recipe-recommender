{
 "cells": [
  {
   "cell_type": "markdown",
   "id": "4abcaaa5",
   "metadata": {},
   "source": [
    "# Part 3) Collecting images of ingredients\n"
   ]
  },
  {
   "cell_type": "code",
   "execution_count": 15,
   "id": "b0a54832",
   "metadata": {},
   "outputs": [],
   "source": [
    "import urllib.request\n",
    "import urllib.parse\n",
    "import json\n",
    "import os\n",
    "import time\n",
    "import random\n",
    "import flickrapi\n"
   ]
  },
  {
   "cell_type": "code",
   "execution_count": 3,
   "id": "b619a5bd",
   "metadata": {},
   "outputs": [],
   "source": [
    "# Selected ingredients for scraping. \n",
    "# The rest of the ingredients have been obtained from Roboflow's universe.\n",
    "\n",
    "ingredients = ['fish','honey','milk','mushroom','noodle','peanut','pork','prawn','stock']\n"
   ]
  },
  {
   "cell_type": "code",
   "execution_count": 5,
   "id": "e5a98725",
   "metadata": {},
   "outputs": [
    {
     "name": "stdout",
     "output_type": "stream",
     "text": [
      "https://website-api.omni.fairprice.com.sg/api/product/v2?experiments=searchVariant-B%2CtimerVariant-Z%2CinlineBanner-A%2CsubstitutionBSVariant-B%2Cgv-A%2Cshelflife-B%2Cds-A%2Cls_comsl-B%2Cls_deltime-B%2Cls_deltime-ogA%2Cls_deltime-feA%2Calgolia-tag%2Cfbt-a%2Calgolia-cat%2Ccartoos-a%2Ccartfiller-a%2Ccatnav-hide%2Ces-product%2Ces-promo%2Ccatbubog-B%2Ces-brand%2Csbanner-A%2Ccount-a%2Ccam-a%2Cpriceperpiece-b%2Cls_deltime-sortA&includeTagDetails=true&metaData=%5Bobject%20Object%5D&orderType=DELIVERY&page=1&pageType=search&query=fish&storeId=165&url=fish\n",
      "https://website-api.omni.fairprice.com.sg/api/product/v2?experiments=searchVariant-B%2CtimerVariant-Z%2CinlineBanner-A%2CsubstitutionBSVariant-B%2Cgv-A%2Cshelflife-B%2Cds-A%2Cls_comsl-B%2Cls_deltime-B%2Cls_deltime-ogA%2Cls_deltime-feA%2Calgolia-tag%2Cfbt-a%2Calgolia-cat%2Ccartoos-a%2Ccartfiller-a%2Ccatnav-hide%2Ces-product%2Ces-promo%2Ccatbubog-B%2Ces-brand%2Csbanner-A%2Ccount-a%2Ccam-a%2Cpriceperpiece-b%2Cls_deltime-sortA&includeTagDetails=true&metaData=%5Bobject%20Object%5D&orderType=DELIVERY&page=2&pageType=search&query=fish&storeId=165&url=fish\n",
      "https://website-api.omni.fairprice.com.sg/api/product/v2?experiments=searchVariant-B%2CtimerVariant-Z%2CinlineBanner-A%2CsubstitutionBSVariant-B%2Cgv-A%2Cshelflife-B%2Cds-A%2Cls_comsl-B%2Cls_deltime-B%2Cls_deltime-ogA%2Cls_deltime-feA%2Calgolia-tag%2Cfbt-a%2Calgolia-cat%2Ccartoos-a%2Ccartfiller-a%2Ccatnav-hide%2Ces-product%2Ces-promo%2Ccatbubog-B%2Ces-brand%2Csbanner-A%2Ccount-a%2Ccam-a%2Cpriceperpiece-b%2Cls_deltime-sortA&includeTagDetails=true&metaData=%5Bobject%20Object%5D&orderType=DELIVERY&page=3&pageType=search&query=fish&storeId=165&url=fish\n",
      "https://website-api.omni.fairprice.com.sg/api/product/v2?experiments=searchVariant-B%2CtimerVariant-Z%2CinlineBanner-A%2CsubstitutionBSVariant-B%2Cgv-A%2Cshelflife-B%2Cds-A%2Cls_comsl-B%2Cls_deltime-B%2Cls_deltime-ogA%2Cls_deltime-feA%2Calgolia-tag%2Cfbt-a%2Calgolia-cat%2Ccartoos-a%2Ccartfiller-a%2Ccatnav-hide%2Ces-product%2Ces-promo%2Ccatbubog-B%2Ces-brand%2Csbanner-A%2Ccount-a%2Ccam-a%2Cpriceperpiece-b%2Cls_deltime-sortA&includeTagDetails=true&metaData=%5Bobject%20Object%5D&orderType=DELIVERY&page=4&pageType=search&query=fish&storeId=165&url=fish\n",
      "https://website-api.omni.fairprice.com.sg/api/product/v2?experiments=searchVariant-B%2CtimerVariant-Z%2CinlineBanner-A%2CsubstitutionBSVariant-B%2Cgv-A%2Cshelflife-B%2Cds-A%2Cls_comsl-B%2Cls_deltime-B%2Cls_deltime-ogA%2Cls_deltime-feA%2Calgolia-tag%2Cfbt-a%2Calgolia-cat%2Ccartoos-a%2Ccartfiller-a%2Ccatnav-hide%2Ces-product%2Ces-promo%2Ccatbubog-B%2Ces-brand%2Csbanner-A%2Ccount-a%2Ccam-a%2Cpriceperpiece-b%2Cls_deltime-sortA&includeTagDetails=true&metaData=%5Bobject%20Object%5D&orderType=DELIVERY&page=5&pageType=search&query=fish&storeId=165&url=fish\n",
      "https://website-api.omni.fairprice.com.sg/api/product/v2?experiments=searchVariant-B%2CtimerVariant-Z%2CinlineBanner-A%2CsubstitutionBSVariant-B%2Cgv-A%2Cshelflife-B%2Cds-A%2Cls_comsl-B%2Cls_deltime-B%2Cls_deltime-ogA%2Cls_deltime-feA%2Calgolia-tag%2Cfbt-a%2Calgolia-cat%2Ccartoos-a%2Ccartfiller-a%2Ccatnav-hide%2Ces-product%2Ces-promo%2Ccatbubog-B%2Ces-brand%2Csbanner-A%2Ccount-a%2Ccam-a%2Cpriceperpiece-b%2Cls_deltime-sortA&includeTagDetails=true&metaData=%5Bobject%20Object%5D&orderType=DELIVERY&page=6&pageType=search&query=fish&storeId=165&url=fish\n",
      "https://website-api.omni.fairprice.com.sg/api/product/v2?experiments=searchVariant-B%2CtimerVariant-Z%2CinlineBanner-A%2CsubstitutionBSVariant-B%2Cgv-A%2Cshelflife-B%2Cds-A%2Cls_comsl-B%2Cls_deltime-B%2Cls_deltime-ogA%2Cls_deltime-feA%2Calgolia-tag%2Cfbt-a%2Calgolia-cat%2Ccartoos-a%2Ccartfiller-a%2Ccatnav-hide%2Ces-product%2Ces-promo%2Ccatbubog-B%2Ces-brand%2Csbanner-A%2Ccount-a%2Ccam-a%2Cpriceperpiece-b%2Cls_deltime-sortA&includeTagDetails=true&metaData=%5Bobject%20Object%5D&orderType=DELIVERY&page=7&pageType=search&query=fish&storeId=165&url=fish\n",
      "https://website-api.omni.fairprice.com.sg/api/product/v2?experiments=searchVariant-B%2CtimerVariant-Z%2CinlineBanner-A%2CsubstitutionBSVariant-B%2Cgv-A%2Cshelflife-B%2Cds-A%2Cls_comsl-B%2Cls_deltime-B%2Cls_deltime-ogA%2Cls_deltime-feA%2Calgolia-tag%2Cfbt-a%2Calgolia-cat%2Ccartoos-a%2Ccartfiller-a%2Ccatnav-hide%2Ces-product%2Ces-promo%2Ccatbubog-B%2Ces-brand%2Csbanner-A%2Ccount-a%2Ccam-a%2Cpriceperpiece-b%2Cls_deltime-sortA&includeTagDetails=true&metaData=%5Bobject%20Object%5D&orderType=DELIVERY&page=8&pageType=search&query=fish&storeId=165&url=fish\n",
      "https://website-api.omni.fairprice.com.sg/api/product/v2?experiments=searchVariant-B%2CtimerVariant-Z%2CinlineBanner-A%2CsubstitutionBSVariant-B%2Cgv-A%2Cshelflife-B%2Cds-A%2Cls_comsl-B%2Cls_deltime-B%2Cls_deltime-ogA%2Cls_deltime-feA%2Calgolia-tag%2Cfbt-a%2Calgolia-cat%2Ccartoos-a%2Ccartfiller-a%2Ccatnav-hide%2Ces-product%2Ces-promo%2Ccatbubog-B%2Ces-brand%2Csbanner-A%2Ccount-a%2Ccam-a%2Cpriceperpiece-b%2Cls_deltime-sortA&includeTagDetails=true&metaData=%5Bobject%20Object%5D&orderType=DELIVERY&page=9&pageType=search&query=fish&storeId=165&url=fish\n",
      "https://website-api.omni.fairprice.com.sg/api/product/v2?experiments=searchVariant-B%2CtimerVariant-Z%2CinlineBanner-A%2CsubstitutionBSVariant-B%2Cgv-A%2Cshelflife-B%2Cds-A%2Cls_comsl-B%2Cls_deltime-B%2Cls_deltime-ogA%2Cls_deltime-feA%2Calgolia-tag%2Cfbt-a%2Calgolia-cat%2Ccartoos-a%2Ccartfiller-a%2Ccatnav-hide%2Ces-product%2Ces-promo%2Ccatbubog-B%2Ces-brand%2Csbanner-A%2Ccount-a%2Ccam-a%2Cpriceperpiece-b%2Cls_deltime-sortA&includeTagDetails=true&metaData=%5Bobject%20Object%5D&orderType=DELIVERY&page=10&pageType=search&query=fish&storeId=165&url=fish\n",
      "https://website-api.omni.fairprice.com.sg/api/product/v2?experiments=searchVariant-B%2CtimerVariant-Z%2CinlineBanner-A%2CsubstitutionBSVariant-B%2Cgv-A%2Cshelflife-B%2Cds-A%2Cls_comsl-B%2Cls_deltime-B%2Cls_deltime-ogA%2Cls_deltime-feA%2Calgolia-tag%2Cfbt-a%2Calgolia-cat%2Ccartoos-a%2Ccartfiller-a%2Ccatnav-hide%2Ces-product%2Ces-promo%2Ccatbubog-B%2Ces-brand%2Csbanner-A%2Ccount-a%2Ccam-a%2Cpriceperpiece-b%2Cls_deltime-sortA&includeTagDetails=true&metaData=%5Bobject%20Object%5D&orderType=DELIVERY&page=1&pageType=search&query=honey&storeId=165&url=honey\n",
      "https://website-api.omni.fairprice.com.sg/api/product/v2?experiments=searchVariant-B%2CtimerVariant-Z%2CinlineBanner-A%2CsubstitutionBSVariant-B%2Cgv-A%2Cshelflife-B%2Cds-A%2Cls_comsl-B%2Cls_deltime-B%2Cls_deltime-ogA%2Cls_deltime-feA%2Calgolia-tag%2Cfbt-a%2Calgolia-cat%2Ccartoos-a%2Ccartfiller-a%2Ccatnav-hide%2Ces-product%2Ces-promo%2Ccatbubog-B%2Ces-brand%2Csbanner-A%2Ccount-a%2Ccam-a%2Cpriceperpiece-b%2Cls_deltime-sortA&includeTagDetails=true&metaData=%5Bobject%20Object%5D&orderType=DELIVERY&page=2&pageType=search&query=honey&storeId=165&url=honey\n",
      "https://website-api.omni.fairprice.com.sg/api/product/v2?experiments=searchVariant-B%2CtimerVariant-Z%2CinlineBanner-A%2CsubstitutionBSVariant-B%2Cgv-A%2Cshelflife-B%2Cds-A%2Cls_comsl-B%2Cls_deltime-B%2Cls_deltime-ogA%2Cls_deltime-feA%2Calgolia-tag%2Cfbt-a%2Calgolia-cat%2Ccartoos-a%2Ccartfiller-a%2Ccatnav-hide%2Ces-product%2Ces-promo%2Ccatbubog-B%2Ces-brand%2Csbanner-A%2Ccount-a%2Ccam-a%2Cpriceperpiece-b%2Cls_deltime-sortA&includeTagDetails=true&metaData=%5Bobject%20Object%5D&orderType=DELIVERY&page=3&pageType=search&query=honey&storeId=165&url=honey\n",
      "https://website-api.omni.fairprice.com.sg/api/product/v2?experiments=searchVariant-B%2CtimerVariant-Z%2CinlineBanner-A%2CsubstitutionBSVariant-B%2Cgv-A%2Cshelflife-B%2Cds-A%2Cls_comsl-B%2Cls_deltime-B%2Cls_deltime-ogA%2Cls_deltime-feA%2Calgolia-tag%2Cfbt-a%2Calgolia-cat%2Ccartoos-a%2Ccartfiller-a%2Ccatnav-hide%2Ces-product%2Ces-promo%2Ccatbubog-B%2Ces-brand%2Csbanner-A%2Ccount-a%2Ccam-a%2Cpriceperpiece-b%2Cls_deltime-sortA&includeTagDetails=true&metaData=%5Bobject%20Object%5D&orderType=DELIVERY&page=4&pageType=search&query=honey&storeId=165&url=honey\n",
      "https://website-api.omni.fairprice.com.sg/api/product/v2?experiments=searchVariant-B%2CtimerVariant-Z%2CinlineBanner-A%2CsubstitutionBSVariant-B%2Cgv-A%2Cshelflife-B%2Cds-A%2Cls_comsl-B%2Cls_deltime-B%2Cls_deltime-ogA%2Cls_deltime-feA%2Calgolia-tag%2Cfbt-a%2Calgolia-cat%2Ccartoos-a%2Ccartfiller-a%2Ccatnav-hide%2Ces-product%2Ces-promo%2Ccatbubog-B%2Ces-brand%2Csbanner-A%2Ccount-a%2Ccam-a%2Cpriceperpiece-b%2Cls_deltime-sortA&includeTagDetails=true&metaData=%5Bobject%20Object%5D&orderType=DELIVERY&page=5&pageType=search&query=honey&storeId=165&url=honey\n"
     ]
    },
    {
     "name": "stdout",
     "output_type": "stream",
     "text": [
      "https://website-api.omni.fairprice.com.sg/api/product/v2?experiments=searchVariant-B%2CtimerVariant-Z%2CinlineBanner-A%2CsubstitutionBSVariant-B%2Cgv-A%2Cshelflife-B%2Cds-A%2Cls_comsl-B%2Cls_deltime-B%2Cls_deltime-ogA%2Cls_deltime-feA%2Calgolia-tag%2Cfbt-a%2Calgolia-cat%2Ccartoos-a%2Ccartfiller-a%2Ccatnav-hide%2Ces-product%2Ces-promo%2Ccatbubog-B%2Ces-brand%2Csbanner-A%2Ccount-a%2Ccam-a%2Cpriceperpiece-b%2Cls_deltime-sortA&includeTagDetails=true&metaData=%5Bobject%20Object%5D&orderType=DELIVERY&page=6&pageType=search&query=honey&storeId=165&url=honey\n",
      "https://website-api.omni.fairprice.com.sg/api/product/v2?experiments=searchVariant-B%2CtimerVariant-Z%2CinlineBanner-A%2CsubstitutionBSVariant-B%2Cgv-A%2Cshelflife-B%2Cds-A%2Cls_comsl-B%2Cls_deltime-B%2Cls_deltime-ogA%2Cls_deltime-feA%2Calgolia-tag%2Cfbt-a%2Calgolia-cat%2Ccartoos-a%2Ccartfiller-a%2Ccatnav-hide%2Ces-product%2Ces-promo%2Ccatbubog-B%2Ces-brand%2Csbanner-A%2Ccount-a%2Ccam-a%2Cpriceperpiece-b%2Cls_deltime-sortA&includeTagDetails=true&metaData=%5Bobject%20Object%5D&orderType=DELIVERY&page=7&pageType=search&query=honey&storeId=165&url=honey\n",
      "https://website-api.omni.fairprice.com.sg/api/product/v2?experiments=searchVariant-B%2CtimerVariant-Z%2CinlineBanner-A%2CsubstitutionBSVariant-B%2Cgv-A%2Cshelflife-B%2Cds-A%2Cls_comsl-B%2Cls_deltime-B%2Cls_deltime-ogA%2Cls_deltime-feA%2Calgolia-tag%2Cfbt-a%2Calgolia-cat%2Ccartoos-a%2Ccartfiller-a%2Ccatnav-hide%2Ces-product%2Ces-promo%2Ccatbubog-B%2Ces-brand%2Csbanner-A%2Ccount-a%2Ccam-a%2Cpriceperpiece-b%2Cls_deltime-sortA&includeTagDetails=true&metaData=%5Bobject%20Object%5D&orderType=DELIVERY&page=8&pageType=search&query=honey&storeId=165&url=honey\n",
      "https://website-api.omni.fairprice.com.sg/api/product/v2?experiments=searchVariant-B%2CtimerVariant-Z%2CinlineBanner-A%2CsubstitutionBSVariant-B%2Cgv-A%2Cshelflife-B%2Cds-A%2Cls_comsl-B%2Cls_deltime-B%2Cls_deltime-ogA%2Cls_deltime-feA%2Calgolia-tag%2Cfbt-a%2Calgolia-cat%2Ccartoos-a%2Ccartfiller-a%2Ccatnav-hide%2Ces-product%2Ces-promo%2Ccatbubog-B%2Ces-brand%2Csbanner-A%2Ccount-a%2Ccam-a%2Cpriceperpiece-b%2Cls_deltime-sortA&includeTagDetails=true&metaData=%5Bobject%20Object%5D&orderType=DELIVERY&page=9&pageType=search&query=honey&storeId=165&url=honey\n",
      "https://website-api.omni.fairprice.com.sg/api/product/v2?experiments=searchVariant-B%2CtimerVariant-Z%2CinlineBanner-A%2CsubstitutionBSVariant-B%2Cgv-A%2Cshelflife-B%2Cds-A%2Cls_comsl-B%2Cls_deltime-B%2Cls_deltime-ogA%2Cls_deltime-feA%2Calgolia-tag%2Cfbt-a%2Calgolia-cat%2Ccartoos-a%2Ccartfiller-a%2Ccatnav-hide%2Ces-product%2Ces-promo%2Ccatbubog-B%2Ces-brand%2Csbanner-A%2Ccount-a%2Ccam-a%2Cpriceperpiece-b%2Cls_deltime-sortA&includeTagDetails=true&metaData=%5Bobject%20Object%5D&orderType=DELIVERY&page=10&pageType=search&query=honey&storeId=165&url=honey\n",
      "https://website-api.omni.fairprice.com.sg/api/product/v2?experiments=searchVariant-B%2CtimerVariant-Z%2CinlineBanner-A%2CsubstitutionBSVariant-B%2Cgv-A%2Cshelflife-B%2Cds-A%2Cls_comsl-B%2Cls_deltime-B%2Cls_deltime-ogA%2Cls_deltime-feA%2Calgolia-tag%2Cfbt-a%2Calgolia-cat%2Ccartoos-a%2Ccartfiller-a%2Ccatnav-hide%2Ces-product%2Ces-promo%2Ccatbubog-B%2Ces-brand%2Csbanner-A%2Ccount-a%2Ccam-a%2Cpriceperpiece-b%2Cls_deltime-sortA&includeTagDetails=true&metaData=%5Bobject%20Object%5D&orderType=DELIVERY&page=1&pageType=search&query=milk&storeId=165&url=milk\n",
      "https://website-api.omni.fairprice.com.sg/api/product/v2?experiments=searchVariant-B%2CtimerVariant-Z%2CinlineBanner-A%2CsubstitutionBSVariant-B%2Cgv-A%2Cshelflife-B%2Cds-A%2Cls_comsl-B%2Cls_deltime-B%2Cls_deltime-ogA%2Cls_deltime-feA%2Calgolia-tag%2Cfbt-a%2Calgolia-cat%2Ccartoos-a%2Ccartfiller-a%2Ccatnav-hide%2Ces-product%2Ces-promo%2Ccatbubog-B%2Ces-brand%2Csbanner-A%2Ccount-a%2Ccam-a%2Cpriceperpiece-b%2Cls_deltime-sortA&includeTagDetails=true&metaData=%5Bobject%20Object%5D&orderType=DELIVERY&page=2&pageType=search&query=milk&storeId=165&url=milk\n",
      "https://website-api.omni.fairprice.com.sg/api/product/v2?experiments=searchVariant-B%2CtimerVariant-Z%2CinlineBanner-A%2CsubstitutionBSVariant-B%2Cgv-A%2Cshelflife-B%2Cds-A%2Cls_comsl-B%2Cls_deltime-B%2Cls_deltime-ogA%2Cls_deltime-feA%2Calgolia-tag%2Cfbt-a%2Calgolia-cat%2Ccartoos-a%2Ccartfiller-a%2Ccatnav-hide%2Ces-product%2Ces-promo%2Ccatbubog-B%2Ces-brand%2Csbanner-A%2Ccount-a%2Ccam-a%2Cpriceperpiece-b%2Cls_deltime-sortA&includeTagDetails=true&metaData=%5Bobject%20Object%5D&orderType=DELIVERY&page=3&pageType=search&query=milk&storeId=165&url=milk\n",
      "https://website-api.omni.fairprice.com.sg/api/product/v2?experiments=searchVariant-B%2CtimerVariant-Z%2CinlineBanner-A%2CsubstitutionBSVariant-B%2Cgv-A%2Cshelflife-B%2Cds-A%2Cls_comsl-B%2Cls_deltime-B%2Cls_deltime-ogA%2Cls_deltime-feA%2Calgolia-tag%2Cfbt-a%2Calgolia-cat%2Ccartoos-a%2Ccartfiller-a%2Ccatnav-hide%2Ces-product%2Ces-promo%2Ccatbubog-B%2Ces-brand%2Csbanner-A%2Ccount-a%2Ccam-a%2Cpriceperpiece-b%2Cls_deltime-sortA&includeTagDetails=true&metaData=%5Bobject%20Object%5D&orderType=DELIVERY&page=4&pageType=search&query=milk&storeId=165&url=milk\n",
      "https://website-api.omni.fairprice.com.sg/api/product/v2?experiments=searchVariant-B%2CtimerVariant-Z%2CinlineBanner-A%2CsubstitutionBSVariant-B%2Cgv-A%2Cshelflife-B%2Cds-A%2Cls_comsl-B%2Cls_deltime-B%2Cls_deltime-ogA%2Cls_deltime-feA%2Calgolia-tag%2Cfbt-a%2Calgolia-cat%2Ccartoos-a%2Ccartfiller-a%2Ccatnav-hide%2Ces-product%2Ces-promo%2Ccatbubog-B%2Ces-brand%2Csbanner-A%2Ccount-a%2Ccam-a%2Cpriceperpiece-b%2Cls_deltime-sortA&includeTagDetails=true&metaData=%5Bobject%20Object%5D&orderType=DELIVERY&page=5&pageType=search&query=milk&storeId=165&url=milk\n",
      "https://website-api.omni.fairprice.com.sg/api/product/v2?experiments=searchVariant-B%2CtimerVariant-Z%2CinlineBanner-A%2CsubstitutionBSVariant-B%2Cgv-A%2Cshelflife-B%2Cds-A%2Cls_comsl-B%2Cls_deltime-B%2Cls_deltime-ogA%2Cls_deltime-feA%2Calgolia-tag%2Cfbt-a%2Calgolia-cat%2Ccartoos-a%2Ccartfiller-a%2Ccatnav-hide%2Ces-product%2Ces-promo%2Ccatbubog-B%2Ces-brand%2Csbanner-A%2Ccount-a%2Ccam-a%2Cpriceperpiece-b%2Cls_deltime-sortA&includeTagDetails=true&metaData=%5Bobject%20Object%5D&orderType=DELIVERY&page=6&pageType=search&query=milk&storeId=165&url=milk\n",
      "https://website-api.omni.fairprice.com.sg/api/product/v2?experiments=searchVariant-B%2CtimerVariant-Z%2CinlineBanner-A%2CsubstitutionBSVariant-B%2Cgv-A%2Cshelflife-B%2Cds-A%2Cls_comsl-B%2Cls_deltime-B%2Cls_deltime-ogA%2Cls_deltime-feA%2Calgolia-tag%2Cfbt-a%2Calgolia-cat%2Ccartoos-a%2Ccartfiller-a%2Ccatnav-hide%2Ces-product%2Ces-promo%2Ccatbubog-B%2Ces-brand%2Csbanner-A%2Ccount-a%2Ccam-a%2Cpriceperpiece-b%2Cls_deltime-sortA&includeTagDetails=true&metaData=%5Bobject%20Object%5D&orderType=DELIVERY&page=7&pageType=search&query=milk&storeId=165&url=milk\n",
      "https://website-api.omni.fairprice.com.sg/api/product/v2?experiments=searchVariant-B%2CtimerVariant-Z%2CinlineBanner-A%2CsubstitutionBSVariant-B%2Cgv-A%2Cshelflife-B%2Cds-A%2Cls_comsl-B%2Cls_deltime-B%2Cls_deltime-ogA%2Cls_deltime-feA%2Calgolia-tag%2Cfbt-a%2Calgolia-cat%2Ccartoos-a%2Ccartfiller-a%2Ccatnav-hide%2Ces-product%2Ces-promo%2Ccatbubog-B%2Ces-brand%2Csbanner-A%2Ccount-a%2Ccam-a%2Cpriceperpiece-b%2Cls_deltime-sortA&includeTagDetails=true&metaData=%5Bobject%20Object%5D&orderType=DELIVERY&page=8&pageType=search&query=milk&storeId=165&url=milk\n",
      "https://website-api.omni.fairprice.com.sg/api/product/v2?experiments=searchVariant-B%2CtimerVariant-Z%2CinlineBanner-A%2CsubstitutionBSVariant-B%2Cgv-A%2Cshelflife-B%2Cds-A%2Cls_comsl-B%2Cls_deltime-B%2Cls_deltime-ogA%2Cls_deltime-feA%2Calgolia-tag%2Cfbt-a%2Calgolia-cat%2Ccartoos-a%2Ccartfiller-a%2Ccatnav-hide%2Ces-product%2Ces-promo%2Ccatbubog-B%2Ces-brand%2Csbanner-A%2Ccount-a%2Ccam-a%2Cpriceperpiece-b%2Cls_deltime-sortA&includeTagDetails=true&metaData=%5Bobject%20Object%5D&orderType=DELIVERY&page=9&pageType=search&query=milk&storeId=165&url=milk\n",
      "https://website-api.omni.fairprice.com.sg/api/product/v2?experiments=searchVariant-B%2CtimerVariant-Z%2CinlineBanner-A%2CsubstitutionBSVariant-B%2Cgv-A%2Cshelflife-B%2Cds-A%2Cls_comsl-B%2Cls_deltime-B%2Cls_deltime-ogA%2Cls_deltime-feA%2Calgolia-tag%2Cfbt-a%2Calgolia-cat%2Ccartoos-a%2Ccartfiller-a%2Ccatnav-hide%2Ces-product%2Ces-promo%2Ccatbubog-B%2Ces-brand%2Csbanner-A%2Ccount-a%2Ccam-a%2Cpriceperpiece-b%2Cls_deltime-sortA&includeTagDetails=true&metaData=%5Bobject%20Object%5D&orderType=DELIVERY&page=10&pageType=search&query=milk&storeId=165&url=milk\n"
     ]
    },
    {
     "name": "stdout",
     "output_type": "stream",
     "text": [
      "https://website-api.omni.fairprice.com.sg/api/product/v2?experiments=searchVariant-B%2CtimerVariant-Z%2CinlineBanner-A%2CsubstitutionBSVariant-B%2Cgv-A%2Cshelflife-B%2Cds-A%2Cls_comsl-B%2Cls_deltime-B%2Cls_deltime-ogA%2Cls_deltime-feA%2Calgolia-tag%2Cfbt-a%2Calgolia-cat%2Ccartoos-a%2Ccartfiller-a%2Ccatnav-hide%2Ces-product%2Ces-promo%2Ccatbubog-B%2Ces-brand%2Csbanner-A%2Ccount-a%2Ccam-a%2Cpriceperpiece-b%2Cls_deltime-sortA&includeTagDetails=true&metaData=%5Bobject%20Object%5D&orderType=DELIVERY&page=1&pageType=search&query=mushroom&storeId=165&url=mushroom\n",
      "https://website-api.omni.fairprice.com.sg/api/product/v2?experiments=searchVariant-B%2CtimerVariant-Z%2CinlineBanner-A%2CsubstitutionBSVariant-B%2Cgv-A%2Cshelflife-B%2Cds-A%2Cls_comsl-B%2Cls_deltime-B%2Cls_deltime-ogA%2Cls_deltime-feA%2Calgolia-tag%2Cfbt-a%2Calgolia-cat%2Ccartoos-a%2Ccartfiller-a%2Ccatnav-hide%2Ces-product%2Ces-promo%2Ccatbubog-B%2Ces-brand%2Csbanner-A%2Ccount-a%2Ccam-a%2Cpriceperpiece-b%2Cls_deltime-sortA&includeTagDetails=true&metaData=%5Bobject%20Object%5D&orderType=DELIVERY&page=2&pageType=search&query=mushroom&storeId=165&url=mushroom\n",
      "https://website-api.omni.fairprice.com.sg/api/product/v2?experiments=searchVariant-B%2CtimerVariant-Z%2CinlineBanner-A%2CsubstitutionBSVariant-B%2Cgv-A%2Cshelflife-B%2Cds-A%2Cls_comsl-B%2Cls_deltime-B%2Cls_deltime-ogA%2Cls_deltime-feA%2Calgolia-tag%2Cfbt-a%2Calgolia-cat%2Ccartoos-a%2Ccartfiller-a%2Ccatnav-hide%2Ces-product%2Ces-promo%2Ccatbubog-B%2Ces-brand%2Csbanner-A%2Ccount-a%2Ccam-a%2Cpriceperpiece-b%2Cls_deltime-sortA&includeTagDetails=true&metaData=%5Bobject%20Object%5D&orderType=DELIVERY&page=3&pageType=search&query=mushroom&storeId=165&url=mushroom\n",
      "https://website-api.omni.fairprice.com.sg/api/product/v2?experiments=searchVariant-B%2CtimerVariant-Z%2CinlineBanner-A%2CsubstitutionBSVariant-B%2Cgv-A%2Cshelflife-B%2Cds-A%2Cls_comsl-B%2Cls_deltime-B%2Cls_deltime-ogA%2Cls_deltime-feA%2Calgolia-tag%2Cfbt-a%2Calgolia-cat%2Ccartoos-a%2Ccartfiller-a%2Ccatnav-hide%2Ces-product%2Ces-promo%2Ccatbubog-B%2Ces-brand%2Csbanner-A%2Ccount-a%2Ccam-a%2Cpriceperpiece-b%2Cls_deltime-sortA&includeTagDetails=true&metaData=%5Bobject%20Object%5D&orderType=DELIVERY&page=4&pageType=search&query=mushroom&storeId=165&url=mushroom\n",
      "https://website-api.omni.fairprice.com.sg/api/product/v2?experiments=searchVariant-B%2CtimerVariant-Z%2CinlineBanner-A%2CsubstitutionBSVariant-B%2Cgv-A%2Cshelflife-B%2Cds-A%2Cls_comsl-B%2Cls_deltime-B%2Cls_deltime-ogA%2Cls_deltime-feA%2Calgolia-tag%2Cfbt-a%2Calgolia-cat%2Ccartoos-a%2Ccartfiller-a%2Ccatnav-hide%2Ces-product%2Ces-promo%2Ccatbubog-B%2Ces-brand%2Csbanner-A%2Ccount-a%2Ccam-a%2Cpriceperpiece-b%2Cls_deltime-sortA&includeTagDetails=true&metaData=%5Bobject%20Object%5D&orderType=DELIVERY&page=5&pageType=search&query=mushroom&storeId=165&url=mushroom\n",
      "https://website-api.omni.fairprice.com.sg/api/product/v2?experiments=searchVariant-B%2CtimerVariant-Z%2CinlineBanner-A%2CsubstitutionBSVariant-B%2Cgv-A%2Cshelflife-B%2Cds-A%2Cls_comsl-B%2Cls_deltime-B%2Cls_deltime-ogA%2Cls_deltime-feA%2Calgolia-tag%2Cfbt-a%2Calgolia-cat%2Ccartoos-a%2Ccartfiller-a%2Ccatnav-hide%2Ces-product%2Ces-promo%2Ccatbubog-B%2Ces-brand%2Csbanner-A%2Ccount-a%2Ccam-a%2Cpriceperpiece-b%2Cls_deltime-sortA&includeTagDetails=true&metaData=%5Bobject%20Object%5D&orderType=DELIVERY&page=6&pageType=search&query=mushroom&storeId=165&url=mushroom\n",
      "https://website-api.omni.fairprice.com.sg/api/product/v2?experiments=searchVariant-B%2CtimerVariant-Z%2CinlineBanner-A%2CsubstitutionBSVariant-B%2Cgv-A%2Cshelflife-B%2Cds-A%2Cls_comsl-B%2Cls_deltime-B%2Cls_deltime-ogA%2Cls_deltime-feA%2Calgolia-tag%2Cfbt-a%2Calgolia-cat%2Ccartoos-a%2Ccartfiller-a%2Ccatnav-hide%2Ces-product%2Ces-promo%2Ccatbubog-B%2Ces-brand%2Csbanner-A%2Ccount-a%2Ccam-a%2Cpriceperpiece-b%2Cls_deltime-sortA&includeTagDetails=true&metaData=%5Bobject%20Object%5D&orderType=DELIVERY&page=7&pageType=search&query=mushroom&storeId=165&url=mushroom\n",
      "https://website-api.omni.fairprice.com.sg/api/product/v2?experiments=searchVariant-B%2CtimerVariant-Z%2CinlineBanner-A%2CsubstitutionBSVariant-B%2Cgv-A%2Cshelflife-B%2Cds-A%2Cls_comsl-B%2Cls_deltime-B%2Cls_deltime-ogA%2Cls_deltime-feA%2Calgolia-tag%2Cfbt-a%2Calgolia-cat%2Ccartoos-a%2Ccartfiller-a%2Ccatnav-hide%2Ces-product%2Ces-promo%2Ccatbubog-B%2Ces-brand%2Csbanner-A%2Ccount-a%2Ccam-a%2Cpriceperpiece-b%2Cls_deltime-sortA&includeTagDetails=true&metaData=%5Bobject%20Object%5D&orderType=DELIVERY&page=8&pageType=search&query=mushroom&storeId=165&url=mushroom\n",
      "https://website-api.omni.fairprice.com.sg/api/product/v2?experiments=searchVariant-B%2CtimerVariant-Z%2CinlineBanner-A%2CsubstitutionBSVariant-B%2Cgv-A%2Cshelflife-B%2Cds-A%2Cls_comsl-B%2Cls_deltime-B%2Cls_deltime-ogA%2Cls_deltime-feA%2Calgolia-tag%2Cfbt-a%2Calgolia-cat%2Ccartoos-a%2Ccartfiller-a%2Ccatnav-hide%2Ces-product%2Ces-promo%2Ccatbubog-B%2Ces-brand%2Csbanner-A%2Ccount-a%2Ccam-a%2Cpriceperpiece-b%2Cls_deltime-sortA&includeTagDetails=true&metaData=%5Bobject%20Object%5D&orderType=DELIVERY&page=9&pageType=search&query=mushroom&storeId=165&url=mushroom\n",
      "https://website-api.omni.fairprice.com.sg/api/product/v2?experiments=searchVariant-B%2CtimerVariant-Z%2CinlineBanner-A%2CsubstitutionBSVariant-B%2Cgv-A%2Cshelflife-B%2Cds-A%2Cls_comsl-B%2Cls_deltime-B%2Cls_deltime-ogA%2Cls_deltime-feA%2Calgolia-tag%2Cfbt-a%2Calgolia-cat%2Ccartoos-a%2Ccartfiller-a%2Ccatnav-hide%2Ces-product%2Ces-promo%2Ccatbubog-B%2Ces-brand%2Csbanner-A%2Ccount-a%2Ccam-a%2Cpriceperpiece-b%2Cls_deltime-sortA&includeTagDetails=true&metaData=%5Bobject%20Object%5D&orderType=DELIVERY&page=10&pageType=search&query=mushroom&storeId=165&url=mushroom\n",
      "https://website-api.omni.fairprice.com.sg/api/product/v2?experiments=searchVariant-B%2CtimerVariant-Z%2CinlineBanner-A%2CsubstitutionBSVariant-B%2Cgv-A%2Cshelflife-B%2Cds-A%2Cls_comsl-B%2Cls_deltime-B%2Cls_deltime-ogA%2Cls_deltime-feA%2Calgolia-tag%2Cfbt-a%2Calgolia-cat%2Ccartoos-a%2Ccartfiller-a%2Ccatnav-hide%2Ces-product%2Ces-promo%2Ccatbubog-B%2Ces-brand%2Csbanner-A%2Ccount-a%2Ccam-a%2Cpriceperpiece-b%2Cls_deltime-sortA&includeTagDetails=true&metaData=%5Bobject%20Object%5D&orderType=DELIVERY&page=1&pageType=search&query=noodle&storeId=165&url=noodle\n",
      "https://website-api.omni.fairprice.com.sg/api/product/v2?experiments=searchVariant-B%2CtimerVariant-Z%2CinlineBanner-A%2CsubstitutionBSVariant-B%2Cgv-A%2Cshelflife-B%2Cds-A%2Cls_comsl-B%2Cls_deltime-B%2Cls_deltime-ogA%2Cls_deltime-feA%2Calgolia-tag%2Cfbt-a%2Calgolia-cat%2Ccartoos-a%2Ccartfiller-a%2Ccatnav-hide%2Ces-product%2Ces-promo%2Ccatbubog-B%2Ces-brand%2Csbanner-A%2Ccount-a%2Ccam-a%2Cpriceperpiece-b%2Cls_deltime-sortA&includeTagDetails=true&metaData=%5Bobject%20Object%5D&orderType=DELIVERY&page=2&pageType=search&query=noodle&storeId=165&url=noodle\n",
      "https://website-api.omni.fairprice.com.sg/api/product/v2?experiments=searchVariant-B%2CtimerVariant-Z%2CinlineBanner-A%2CsubstitutionBSVariant-B%2Cgv-A%2Cshelflife-B%2Cds-A%2Cls_comsl-B%2Cls_deltime-B%2Cls_deltime-ogA%2Cls_deltime-feA%2Calgolia-tag%2Cfbt-a%2Calgolia-cat%2Ccartoos-a%2Ccartfiller-a%2Ccatnav-hide%2Ces-product%2Ces-promo%2Ccatbubog-B%2Ces-brand%2Csbanner-A%2Ccount-a%2Ccam-a%2Cpriceperpiece-b%2Cls_deltime-sortA&includeTagDetails=true&metaData=%5Bobject%20Object%5D&orderType=DELIVERY&page=3&pageType=search&query=noodle&storeId=165&url=noodle\n",
      "https://website-api.omni.fairprice.com.sg/api/product/v2?experiments=searchVariant-B%2CtimerVariant-Z%2CinlineBanner-A%2CsubstitutionBSVariant-B%2Cgv-A%2Cshelflife-B%2Cds-A%2Cls_comsl-B%2Cls_deltime-B%2Cls_deltime-ogA%2Cls_deltime-feA%2Calgolia-tag%2Cfbt-a%2Calgolia-cat%2Ccartoos-a%2Ccartfiller-a%2Ccatnav-hide%2Ces-product%2Ces-promo%2Ccatbubog-B%2Ces-brand%2Csbanner-A%2Ccount-a%2Ccam-a%2Cpriceperpiece-b%2Cls_deltime-sortA&includeTagDetails=true&metaData=%5Bobject%20Object%5D&orderType=DELIVERY&page=4&pageType=search&query=noodle&storeId=165&url=noodle\n",
      "https://website-api.omni.fairprice.com.sg/api/product/v2?experiments=searchVariant-B%2CtimerVariant-Z%2CinlineBanner-A%2CsubstitutionBSVariant-B%2Cgv-A%2Cshelflife-B%2Cds-A%2Cls_comsl-B%2Cls_deltime-B%2Cls_deltime-ogA%2Cls_deltime-feA%2Calgolia-tag%2Cfbt-a%2Calgolia-cat%2Ccartoos-a%2Ccartfiller-a%2Ccatnav-hide%2Ces-product%2Ces-promo%2Ccatbubog-B%2Ces-brand%2Csbanner-A%2Ccount-a%2Ccam-a%2Cpriceperpiece-b%2Cls_deltime-sortA&includeTagDetails=true&metaData=%5Bobject%20Object%5D&orderType=DELIVERY&page=5&pageType=search&query=noodle&storeId=165&url=noodle\n"
     ]
    },
    {
     "name": "stdout",
     "output_type": "stream",
     "text": [
      "https://website-api.omni.fairprice.com.sg/api/product/v2?experiments=searchVariant-B%2CtimerVariant-Z%2CinlineBanner-A%2CsubstitutionBSVariant-B%2Cgv-A%2Cshelflife-B%2Cds-A%2Cls_comsl-B%2Cls_deltime-B%2Cls_deltime-ogA%2Cls_deltime-feA%2Calgolia-tag%2Cfbt-a%2Calgolia-cat%2Ccartoos-a%2Ccartfiller-a%2Ccatnav-hide%2Ces-product%2Ces-promo%2Ccatbubog-B%2Ces-brand%2Csbanner-A%2Ccount-a%2Ccam-a%2Cpriceperpiece-b%2Cls_deltime-sortA&includeTagDetails=true&metaData=%5Bobject%20Object%5D&orderType=DELIVERY&page=6&pageType=search&query=noodle&storeId=165&url=noodle\n",
      "https://website-api.omni.fairprice.com.sg/api/product/v2?experiments=searchVariant-B%2CtimerVariant-Z%2CinlineBanner-A%2CsubstitutionBSVariant-B%2Cgv-A%2Cshelflife-B%2Cds-A%2Cls_comsl-B%2Cls_deltime-B%2Cls_deltime-ogA%2Cls_deltime-feA%2Calgolia-tag%2Cfbt-a%2Calgolia-cat%2Ccartoos-a%2Ccartfiller-a%2Ccatnav-hide%2Ces-product%2Ces-promo%2Ccatbubog-B%2Ces-brand%2Csbanner-A%2Ccount-a%2Ccam-a%2Cpriceperpiece-b%2Cls_deltime-sortA&includeTagDetails=true&metaData=%5Bobject%20Object%5D&orderType=DELIVERY&page=7&pageType=search&query=noodle&storeId=165&url=noodle\n",
      "https://website-api.omni.fairprice.com.sg/api/product/v2?experiments=searchVariant-B%2CtimerVariant-Z%2CinlineBanner-A%2CsubstitutionBSVariant-B%2Cgv-A%2Cshelflife-B%2Cds-A%2Cls_comsl-B%2Cls_deltime-B%2Cls_deltime-ogA%2Cls_deltime-feA%2Calgolia-tag%2Cfbt-a%2Calgolia-cat%2Ccartoos-a%2Ccartfiller-a%2Ccatnav-hide%2Ces-product%2Ces-promo%2Ccatbubog-B%2Ces-brand%2Csbanner-A%2Ccount-a%2Ccam-a%2Cpriceperpiece-b%2Cls_deltime-sortA&includeTagDetails=true&metaData=%5Bobject%20Object%5D&orderType=DELIVERY&page=8&pageType=search&query=noodle&storeId=165&url=noodle\n",
      "https://website-api.omni.fairprice.com.sg/api/product/v2?experiments=searchVariant-B%2CtimerVariant-Z%2CinlineBanner-A%2CsubstitutionBSVariant-B%2Cgv-A%2Cshelflife-B%2Cds-A%2Cls_comsl-B%2Cls_deltime-B%2Cls_deltime-ogA%2Cls_deltime-feA%2Calgolia-tag%2Cfbt-a%2Calgolia-cat%2Ccartoos-a%2Ccartfiller-a%2Ccatnav-hide%2Ces-product%2Ces-promo%2Ccatbubog-B%2Ces-brand%2Csbanner-A%2Ccount-a%2Ccam-a%2Cpriceperpiece-b%2Cls_deltime-sortA&includeTagDetails=true&metaData=%5Bobject%20Object%5D&orderType=DELIVERY&page=9&pageType=search&query=noodle&storeId=165&url=noodle\n",
      "https://website-api.omni.fairprice.com.sg/api/product/v2?experiments=searchVariant-B%2CtimerVariant-Z%2CinlineBanner-A%2CsubstitutionBSVariant-B%2Cgv-A%2Cshelflife-B%2Cds-A%2Cls_comsl-B%2Cls_deltime-B%2Cls_deltime-ogA%2Cls_deltime-feA%2Calgolia-tag%2Cfbt-a%2Calgolia-cat%2Ccartoos-a%2Ccartfiller-a%2Ccatnav-hide%2Ces-product%2Ces-promo%2Ccatbubog-B%2Ces-brand%2Csbanner-A%2Ccount-a%2Ccam-a%2Cpriceperpiece-b%2Cls_deltime-sortA&includeTagDetails=true&metaData=%5Bobject%20Object%5D&orderType=DELIVERY&page=10&pageType=search&query=noodle&storeId=165&url=noodle\n",
      "https://website-api.omni.fairprice.com.sg/api/product/v2?experiments=searchVariant-B%2CtimerVariant-Z%2CinlineBanner-A%2CsubstitutionBSVariant-B%2Cgv-A%2Cshelflife-B%2Cds-A%2Cls_comsl-B%2Cls_deltime-B%2Cls_deltime-ogA%2Cls_deltime-feA%2Calgolia-tag%2Cfbt-a%2Calgolia-cat%2Ccartoos-a%2Ccartfiller-a%2Ccatnav-hide%2Ces-product%2Ces-promo%2Ccatbubog-B%2Ces-brand%2Csbanner-A%2Ccount-a%2Ccam-a%2Cpriceperpiece-b%2Cls_deltime-sortA&includeTagDetails=true&metaData=%5Bobject%20Object%5D&orderType=DELIVERY&page=1&pageType=search&query=peanut&storeId=165&url=peanut\n",
      "https://website-api.omni.fairprice.com.sg/api/product/v2?experiments=searchVariant-B%2CtimerVariant-Z%2CinlineBanner-A%2CsubstitutionBSVariant-B%2Cgv-A%2Cshelflife-B%2Cds-A%2Cls_comsl-B%2Cls_deltime-B%2Cls_deltime-ogA%2Cls_deltime-feA%2Calgolia-tag%2Cfbt-a%2Calgolia-cat%2Ccartoos-a%2Ccartfiller-a%2Ccatnav-hide%2Ces-product%2Ces-promo%2Ccatbubog-B%2Ces-brand%2Csbanner-A%2Ccount-a%2Ccam-a%2Cpriceperpiece-b%2Cls_deltime-sortA&includeTagDetails=true&metaData=%5Bobject%20Object%5D&orderType=DELIVERY&page=2&pageType=search&query=peanut&storeId=165&url=peanut\n",
      "https://website-api.omni.fairprice.com.sg/api/product/v2?experiments=searchVariant-B%2CtimerVariant-Z%2CinlineBanner-A%2CsubstitutionBSVariant-B%2Cgv-A%2Cshelflife-B%2Cds-A%2Cls_comsl-B%2Cls_deltime-B%2Cls_deltime-ogA%2Cls_deltime-feA%2Calgolia-tag%2Cfbt-a%2Calgolia-cat%2Ccartoos-a%2Ccartfiller-a%2Ccatnav-hide%2Ces-product%2Ces-promo%2Ccatbubog-B%2Ces-brand%2Csbanner-A%2Ccount-a%2Ccam-a%2Cpriceperpiece-b%2Cls_deltime-sortA&includeTagDetails=true&metaData=%5Bobject%20Object%5D&orderType=DELIVERY&page=3&pageType=search&query=peanut&storeId=165&url=peanut\n",
      "https://website-api.omni.fairprice.com.sg/api/product/v2?experiments=searchVariant-B%2CtimerVariant-Z%2CinlineBanner-A%2CsubstitutionBSVariant-B%2Cgv-A%2Cshelflife-B%2Cds-A%2Cls_comsl-B%2Cls_deltime-B%2Cls_deltime-ogA%2Cls_deltime-feA%2Calgolia-tag%2Cfbt-a%2Calgolia-cat%2Ccartoos-a%2Ccartfiller-a%2Ccatnav-hide%2Ces-product%2Ces-promo%2Ccatbubog-B%2Ces-brand%2Csbanner-A%2Ccount-a%2Ccam-a%2Cpriceperpiece-b%2Cls_deltime-sortA&includeTagDetails=true&metaData=%5Bobject%20Object%5D&orderType=DELIVERY&page=4&pageType=search&query=peanut&storeId=165&url=peanut\n",
      "https://website-api.omni.fairprice.com.sg/api/product/v2?experiments=searchVariant-B%2CtimerVariant-Z%2CinlineBanner-A%2CsubstitutionBSVariant-B%2Cgv-A%2Cshelflife-B%2Cds-A%2Cls_comsl-B%2Cls_deltime-B%2Cls_deltime-ogA%2Cls_deltime-feA%2Calgolia-tag%2Cfbt-a%2Calgolia-cat%2Ccartoos-a%2Ccartfiller-a%2Ccatnav-hide%2Ces-product%2Ces-promo%2Ccatbubog-B%2Ces-brand%2Csbanner-A%2Ccount-a%2Ccam-a%2Cpriceperpiece-b%2Cls_deltime-sortA&includeTagDetails=true&metaData=%5Bobject%20Object%5D&orderType=DELIVERY&page=5&pageType=search&query=peanut&storeId=165&url=peanut\n",
      "https://website-api.omni.fairprice.com.sg/api/product/v2?experiments=searchVariant-B%2CtimerVariant-Z%2CinlineBanner-A%2CsubstitutionBSVariant-B%2Cgv-A%2Cshelflife-B%2Cds-A%2Cls_comsl-B%2Cls_deltime-B%2Cls_deltime-ogA%2Cls_deltime-feA%2Calgolia-tag%2Cfbt-a%2Calgolia-cat%2Ccartoos-a%2Ccartfiller-a%2Ccatnav-hide%2Ces-product%2Ces-promo%2Ccatbubog-B%2Ces-brand%2Csbanner-A%2Ccount-a%2Ccam-a%2Cpriceperpiece-b%2Cls_deltime-sortA&includeTagDetails=true&metaData=%5Bobject%20Object%5D&orderType=DELIVERY&page=6&pageType=search&query=peanut&storeId=165&url=peanut\n",
      "https://website-api.omni.fairprice.com.sg/api/product/v2?experiments=searchVariant-B%2CtimerVariant-Z%2CinlineBanner-A%2CsubstitutionBSVariant-B%2Cgv-A%2Cshelflife-B%2Cds-A%2Cls_comsl-B%2Cls_deltime-B%2Cls_deltime-ogA%2Cls_deltime-feA%2Calgolia-tag%2Cfbt-a%2Calgolia-cat%2Ccartoos-a%2Ccartfiller-a%2Ccatnav-hide%2Ces-product%2Ces-promo%2Ccatbubog-B%2Ces-brand%2Csbanner-A%2Ccount-a%2Ccam-a%2Cpriceperpiece-b%2Cls_deltime-sortA&includeTagDetails=true&metaData=%5Bobject%20Object%5D&orderType=DELIVERY&page=7&pageType=search&query=peanut&storeId=165&url=peanut\n",
      "https://website-api.omni.fairprice.com.sg/api/product/v2?experiments=searchVariant-B%2CtimerVariant-Z%2CinlineBanner-A%2CsubstitutionBSVariant-B%2Cgv-A%2Cshelflife-B%2Cds-A%2Cls_comsl-B%2Cls_deltime-B%2Cls_deltime-ogA%2Cls_deltime-feA%2Calgolia-tag%2Cfbt-a%2Calgolia-cat%2Ccartoos-a%2Ccartfiller-a%2Ccatnav-hide%2Ces-product%2Ces-promo%2Ccatbubog-B%2Ces-brand%2Csbanner-A%2Ccount-a%2Ccam-a%2Cpriceperpiece-b%2Cls_deltime-sortA&includeTagDetails=true&metaData=%5Bobject%20Object%5D&orderType=DELIVERY&page=8&pageType=search&query=peanut&storeId=165&url=peanut\n",
      "https://website-api.omni.fairprice.com.sg/api/product/v2?experiments=searchVariant-B%2CtimerVariant-Z%2CinlineBanner-A%2CsubstitutionBSVariant-B%2Cgv-A%2Cshelflife-B%2Cds-A%2Cls_comsl-B%2Cls_deltime-B%2Cls_deltime-ogA%2Cls_deltime-feA%2Calgolia-tag%2Cfbt-a%2Calgolia-cat%2Ccartoos-a%2Ccartfiller-a%2Ccatnav-hide%2Ces-product%2Ces-promo%2Ccatbubog-B%2Ces-brand%2Csbanner-A%2Ccount-a%2Ccam-a%2Cpriceperpiece-b%2Cls_deltime-sortA&includeTagDetails=true&metaData=%5Bobject%20Object%5D&orderType=DELIVERY&page=9&pageType=search&query=peanut&storeId=165&url=peanut\n",
      "https://website-api.omni.fairprice.com.sg/api/product/v2?experiments=searchVariant-B%2CtimerVariant-Z%2CinlineBanner-A%2CsubstitutionBSVariant-B%2Cgv-A%2Cshelflife-B%2Cds-A%2Cls_comsl-B%2Cls_deltime-B%2Cls_deltime-ogA%2Cls_deltime-feA%2Calgolia-tag%2Cfbt-a%2Calgolia-cat%2Ccartoos-a%2Ccartfiller-a%2Ccatnav-hide%2Ces-product%2Ces-promo%2Ccatbubog-B%2Ces-brand%2Csbanner-A%2Ccount-a%2Ccam-a%2Cpriceperpiece-b%2Cls_deltime-sortA&includeTagDetails=true&metaData=%5Bobject%20Object%5D&orderType=DELIVERY&page=10&pageType=search&query=peanut&storeId=165&url=peanut\n"
     ]
    },
    {
     "name": "stdout",
     "output_type": "stream",
     "text": [
      "https://website-api.omni.fairprice.com.sg/api/product/v2?experiments=searchVariant-B%2CtimerVariant-Z%2CinlineBanner-A%2CsubstitutionBSVariant-B%2Cgv-A%2Cshelflife-B%2Cds-A%2Cls_comsl-B%2Cls_deltime-B%2Cls_deltime-ogA%2Cls_deltime-feA%2Calgolia-tag%2Cfbt-a%2Calgolia-cat%2Ccartoos-a%2Ccartfiller-a%2Ccatnav-hide%2Ces-product%2Ces-promo%2Ccatbubog-B%2Ces-brand%2Csbanner-A%2Ccount-a%2Ccam-a%2Cpriceperpiece-b%2Cls_deltime-sortA&includeTagDetails=true&metaData=%5Bobject%20Object%5D&orderType=DELIVERY&page=1&pageType=search&query=pork&storeId=165&url=pork\n",
      "https://website-api.omni.fairprice.com.sg/api/product/v2?experiments=searchVariant-B%2CtimerVariant-Z%2CinlineBanner-A%2CsubstitutionBSVariant-B%2Cgv-A%2Cshelflife-B%2Cds-A%2Cls_comsl-B%2Cls_deltime-B%2Cls_deltime-ogA%2Cls_deltime-feA%2Calgolia-tag%2Cfbt-a%2Calgolia-cat%2Ccartoos-a%2Ccartfiller-a%2Ccatnav-hide%2Ces-product%2Ces-promo%2Ccatbubog-B%2Ces-brand%2Csbanner-A%2Ccount-a%2Ccam-a%2Cpriceperpiece-b%2Cls_deltime-sortA&includeTagDetails=true&metaData=%5Bobject%20Object%5D&orderType=DELIVERY&page=2&pageType=search&query=pork&storeId=165&url=pork\n",
      "https://website-api.omni.fairprice.com.sg/api/product/v2?experiments=searchVariant-B%2CtimerVariant-Z%2CinlineBanner-A%2CsubstitutionBSVariant-B%2Cgv-A%2Cshelflife-B%2Cds-A%2Cls_comsl-B%2Cls_deltime-B%2Cls_deltime-ogA%2Cls_deltime-feA%2Calgolia-tag%2Cfbt-a%2Calgolia-cat%2Ccartoos-a%2Ccartfiller-a%2Ccatnav-hide%2Ces-product%2Ces-promo%2Ccatbubog-B%2Ces-brand%2Csbanner-A%2Ccount-a%2Ccam-a%2Cpriceperpiece-b%2Cls_deltime-sortA&includeTagDetails=true&metaData=%5Bobject%20Object%5D&orderType=DELIVERY&page=3&pageType=search&query=pork&storeId=165&url=pork\n",
      "https://website-api.omni.fairprice.com.sg/api/product/v2?experiments=searchVariant-B%2CtimerVariant-Z%2CinlineBanner-A%2CsubstitutionBSVariant-B%2Cgv-A%2Cshelflife-B%2Cds-A%2Cls_comsl-B%2Cls_deltime-B%2Cls_deltime-ogA%2Cls_deltime-feA%2Calgolia-tag%2Cfbt-a%2Calgolia-cat%2Ccartoos-a%2Ccartfiller-a%2Ccatnav-hide%2Ces-product%2Ces-promo%2Ccatbubog-B%2Ces-brand%2Csbanner-A%2Ccount-a%2Ccam-a%2Cpriceperpiece-b%2Cls_deltime-sortA&includeTagDetails=true&metaData=%5Bobject%20Object%5D&orderType=DELIVERY&page=4&pageType=search&query=pork&storeId=165&url=pork\n",
      "https://website-api.omni.fairprice.com.sg/api/product/v2?experiments=searchVariant-B%2CtimerVariant-Z%2CinlineBanner-A%2CsubstitutionBSVariant-B%2Cgv-A%2Cshelflife-B%2Cds-A%2Cls_comsl-B%2Cls_deltime-B%2Cls_deltime-ogA%2Cls_deltime-feA%2Calgolia-tag%2Cfbt-a%2Calgolia-cat%2Ccartoos-a%2Ccartfiller-a%2Ccatnav-hide%2Ces-product%2Ces-promo%2Ccatbubog-B%2Ces-brand%2Csbanner-A%2Ccount-a%2Ccam-a%2Cpriceperpiece-b%2Cls_deltime-sortA&includeTagDetails=true&metaData=%5Bobject%20Object%5D&orderType=DELIVERY&page=5&pageType=search&query=pork&storeId=165&url=pork\n",
      "https://website-api.omni.fairprice.com.sg/api/product/v2?experiments=searchVariant-B%2CtimerVariant-Z%2CinlineBanner-A%2CsubstitutionBSVariant-B%2Cgv-A%2Cshelflife-B%2Cds-A%2Cls_comsl-B%2Cls_deltime-B%2Cls_deltime-ogA%2Cls_deltime-feA%2Calgolia-tag%2Cfbt-a%2Calgolia-cat%2Ccartoos-a%2Ccartfiller-a%2Ccatnav-hide%2Ces-product%2Ces-promo%2Ccatbubog-B%2Ces-brand%2Csbanner-A%2Ccount-a%2Ccam-a%2Cpriceperpiece-b%2Cls_deltime-sortA&includeTagDetails=true&metaData=%5Bobject%20Object%5D&orderType=DELIVERY&page=6&pageType=search&query=pork&storeId=165&url=pork\n",
      "https://website-api.omni.fairprice.com.sg/api/product/v2?experiments=searchVariant-B%2CtimerVariant-Z%2CinlineBanner-A%2CsubstitutionBSVariant-B%2Cgv-A%2Cshelflife-B%2Cds-A%2Cls_comsl-B%2Cls_deltime-B%2Cls_deltime-ogA%2Cls_deltime-feA%2Calgolia-tag%2Cfbt-a%2Calgolia-cat%2Ccartoos-a%2Ccartfiller-a%2Ccatnav-hide%2Ces-product%2Ces-promo%2Ccatbubog-B%2Ces-brand%2Csbanner-A%2Ccount-a%2Ccam-a%2Cpriceperpiece-b%2Cls_deltime-sortA&includeTagDetails=true&metaData=%5Bobject%20Object%5D&orderType=DELIVERY&page=7&pageType=search&query=pork&storeId=165&url=pork\n",
      "https://website-api.omni.fairprice.com.sg/api/product/v2?experiments=searchVariant-B%2CtimerVariant-Z%2CinlineBanner-A%2CsubstitutionBSVariant-B%2Cgv-A%2Cshelflife-B%2Cds-A%2Cls_comsl-B%2Cls_deltime-B%2Cls_deltime-ogA%2Cls_deltime-feA%2Calgolia-tag%2Cfbt-a%2Calgolia-cat%2Ccartoos-a%2Ccartfiller-a%2Ccatnav-hide%2Ces-product%2Ces-promo%2Ccatbubog-B%2Ces-brand%2Csbanner-A%2Ccount-a%2Ccam-a%2Cpriceperpiece-b%2Cls_deltime-sortA&includeTagDetails=true&metaData=%5Bobject%20Object%5D&orderType=DELIVERY&page=8&pageType=search&query=pork&storeId=165&url=pork\n",
      "https://website-api.omni.fairprice.com.sg/api/product/v2?experiments=searchVariant-B%2CtimerVariant-Z%2CinlineBanner-A%2CsubstitutionBSVariant-B%2Cgv-A%2Cshelflife-B%2Cds-A%2Cls_comsl-B%2Cls_deltime-B%2Cls_deltime-ogA%2Cls_deltime-feA%2Calgolia-tag%2Cfbt-a%2Calgolia-cat%2Ccartoos-a%2Ccartfiller-a%2Ccatnav-hide%2Ces-product%2Ces-promo%2Ccatbubog-B%2Ces-brand%2Csbanner-A%2Ccount-a%2Ccam-a%2Cpriceperpiece-b%2Cls_deltime-sortA&includeTagDetails=true&metaData=%5Bobject%20Object%5D&orderType=DELIVERY&page=9&pageType=search&query=pork&storeId=165&url=pork\n",
      "https://website-api.omni.fairprice.com.sg/api/product/v2?experiments=searchVariant-B%2CtimerVariant-Z%2CinlineBanner-A%2CsubstitutionBSVariant-B%2Cgv-A%2Cshelflife-B%2Cds-A%2Cls_comsl-B%2Cls_deltime-B%2Cls_deltime-ogA%2Cls_deltime-feA%2Calgolia-tag%2Cfbt-a%2Calgolia-cat%2Ccartoos-a%2Ccartfiller-a%2Ccatnav-hide%2Ces-product%2Ces-promo%2Ccatbubog-B%2Ces-brand%2Csbanner-A%2Ccount-a%2Ccam-a%2Cpriceperpiece-b%2Cls_deltime-sortA&includeTagDetails=true&metaData=%5Bobject%20Object%5D&orderType=DELIVERY&page=10&pageType=search&query=pork&storeId=165&url=pork\n",
      "https://website-api.omni.fairprice.com.sg/api/product/v2?experiments=searchVariant-B%2CtimerVariant-Z%2CinlineBanner-A%2CsubstitutionBSVariant-B%2Cgv-A%2Cshelflife-B%2Cds-A%2Cls_comsl-B%2Cls_deltime-B%2Cls_deltime-ogA%2Cls_deltime-feA%2Calgolia-tag%2Cfbt-a%2Calgolia-cat%2Ccartoos-a%2Ccartfiller-a%2Ccatnav-hide%2Ces-product%2Ces-promo%2Ccatbubog-B%2Ces-brand%2Csbanner-A%2Ccount-a%2Ccam-a%2Cpriceperpiece-b%2Cls_deltime-sortA&includeTagDetails=true&metaData=%5Bobject%20Object%5D&orderType=DELIVERY&page=1&pageType=search&query=prawn&storeId=165&url=prawn\n",
      "https://website-api.omni.fairprice.com.sg/api/product/v2?experiments=searchVariant-B%2CtimerVariant-Z%2CinlineBanner-A%2CsubstitutionBSVariant-B%2Cgv-A%2Cshelflife-B%2Cds-A%2Cls_comsl-B%2Cls_deltime-B%2Cls_deltime-ogA%2Cls_deltime-feA%2Calgolia-tag%2Cfbt-a%2Calgolia-cat%2Ccartoos-a%2Ccartfiller-a%2Ccatnav-hide%2Ces-product%2Ces-promo%2Ccatbubog-B%2Ces-brand%2Csbanner-A%2Ccount-a%2Ccam-a%2Cpriceperpiece-b%2Cls_deltime-sortA&includeTagDetails=true&metaData=%5Bobject%20Object%5D&orderType=DELIVERY&page=2&pageType=search&query=prawn&storeId=165&url=prawn\n",
      "https://website-api.omni.fairprice.com.sg/api/product/v2?experiments=searchVariant-B%2CtimerVariant-Z%2CinlineBanner-A%2CsubstitutionBSVariant-B%2Cgv-A%2Cshelflife-B%2Cds-A%2Cls_comsl-B%2Cls_deltime-B%2Cls_deltime-ogA%2Cls_deltime-feA%2Calgolia-tag%2Cfbt-a%2Calgolia-cat%2Ccartoos-a%2Ccartfiller-a%2Ccatnav-hide%2Ces-product%2Ces-promo%2Ccatbubog-B%2Ces-brand%2Csbanner-A%2Ccount-a%2Ccam-a%2Cpriceperpiece-b%2Cls_deltime-sortA&includeTagDetails=true&metaData=%5Bobject%20Object%5D&orderType=DELIVERY&page=3&pageType=search&query=prawn&storeId=165&url=prawn\n",
      "https://website-api.omni.fairprice.com.sg/api/product/v2?experiments=searchVariant-B%2CtimerVariant-Z%2CinlineBanner-A%2CsubstitutionBSVariant-B%2Cgv-A%2Cshelflife-B%2Cds-A%2Cls_comsl-B%2Cls_deltime-B%2Cls_deltime-ogA%2Cls_deltime-feA%2Calgolia-tag%2Cfbt-a%2Calgolia-cat%2Ccartoos-a%2Ccartfiller-a%2Ccatnav-hide%2Ces-product%2Ces-promo%2Ccatbubog-B%2Ces-brand%2Csbanner-A%2Ccount-a%2Ccam-a%2Cpriceperpiece-b%2Cls_deltime-sortA&includeTagDetails=true&metaData=%5Bobject%20Object%5D&orderType=DELIVERY&page=4&pageType=search&query=prawn&storeId=165&url=prawn\n",
      "https://website-api.omni.fairprice.com.sg/api/product/v2?experiments=searchVariant-B%2CtimerVariant-Z%2CinlineBanner-A%2CsubstitutionBSVariant-B%2Cgv-A%2Cshelflife-B%2Cds-A%2Cls_comsl-B%2Cls_deltime-B%2Cls_deltime-ogA%2Cls_deltime-feA%2Calgolia-tag%2Cfbt-a%2Calgolia-cat%2Ccartoos-a%2Ccartfiller-a%2Ccatnav-hide%2Ces-product%2Ces-promo%2Ccatbubog-B%2Ces-brand%2Csbanner-A%2Ccount-a%2Ccam-a%2Cpriceperpiece-b%2Cls_deltime-sortA&includeTagDetails=true&metaData=%5Bobject%20Object%5D&orderType=DELIVERY&page=5&pageType=search&query=prawn&storeId=165&url=prawn\n"
     ]
    },
    {
     "name": "stdout",
     "output_type": "stream",
     "text": [
      "https://website-api.omni.fairprice.com.sg/api/product/v2?experiments=searchVariant-B%2CtimerVariant-Z%2CinlineBanner-A%2CsubstitutionBSVariant-B%2Cgv-A%2Cshelflife-B%2Cds-A%2Cls_comsl-B%2Cls_deltime-B%2Cls_deltime-ogA%2Cls_deltime-feA%2Calgolia-tag%2Cfbt-a%2Calgolia-cat%2Ccartoos-a%2Ccartfiller-a%2Ccatnav-hide%2Ces-product%2Ces-promo%2Ccatbubog-B%2Ces-brand%2Csbanner-A%2Ccount-a%2Ccam-a%2Cpriceperpiece-b%2Cls_deltime-sortA&includeTagDetails=true&metaData=%5Bobject%20Object%5D&orderType=DELIVERY&page=6&pageType=search&query=prawn&storeId=165&url=prawn\n",
      "https://website-api.omni.fairprice.com.sg/api/product/v2?experiments=searchVariant-B%2CtimerVariant-Z%2CinlineBanner-A%2CsubstitutionBSVariant-B%2Cgv-A%2Cshelflife-B%2Cds-A%2Cls_comsl-B%2Cls_deltime-B%2Cls_deltime-ogA%2Cls_deltime-feA%2Calgolia-tag%2Cfbt-a%2Calgolia-cat%2Ccartoos-a%2Ccartfiller-a%2Ccatnav-hide%2Ces-product%2Ces-promo%2Ccatbubog-B%2Ces-brand%2Csbanner-A%2Ccount-a%2Ccam-a%2Cpriceperpiece-b%2Cls_deltime-sortA&includeTagDetails=true&metaData=%5Bobject%20Object%5D&orderType=DELIVERY&page=7&pageType=search&query=prawn&storeId=165&url=prawn\n",
      "https://website-api.omni.fairprice.com.sg/api/product/v2?experiments=searchVariant-B%2CtimerVariant-Z%2CinlineBanner-A%2CsubstitutionBSVariant-B%2Cgv-A%2Cshelflife-B%2Cds-A%2Cls_comsl-B%2Cls_deltime-B%2Cls_deltime-ogA%2Cls_deltime-feA%2Calgolia-tag%2Cfbt-a%2Calgolia-cat%2Ccartoos-a%2Ccartfiller-a%2Ccatnav-hide%2Ces-product%2Ces-promo%2Ccatbubog-B%2Ces-brand%2Csbanner-A%2Ccount-a%2Ccam-a%2Cpriceperpiece-b%2Cls_deltime-sortA&includeTagDetails=true&metaData=%5Bobject%20Object%5D&orderType=DELIVERY&page=8&pageType=search&query=prawn&storeId=165&url=prawn\n",
      "https://website-api.omni.fairprice.com.sg/api/product/v2?experiments=searchVariant-B%2CtimerVariant-Z%2CinlineBanner-A%2CsubstitutionBSVariant-B%2Cgv-A%2Cshelflife-B%2Cds-A%2Cls_comsl-B%2Cls_deltime-B%2Cls_deltime-ogA%2Cls_deltime-feA%2Calgolia-tag%2Cfbt-a%2Calgolia-cat%2Ccartoos-a%2Ccartfiller-a%2Ccatnav-hide%2Ces-product%2Ces-promo%2Ccatbubog-B%2Ces-brand%2Csbanner-A%2Ccount-a%2Ccam-a%2Cpriceperpiece-b%2Cls_deltime-sortA&includeTagDetails=true&metaData=%5Bobject%20Object%5D&orderType=DELIVERY&page=9&pageType=search&query=prawn&storeId=165&url=prawn\n",
      "https://website-api.omni.fairprice.com.sg/api/product/v2?experiments=searchVariant-B%2CtimerVariant-Z%2CinlineBanner-A%2CsubstitutionBSVariant-B%2Cgv-A%2Cshelflife-B%2Cds-A%2Cls_comsl-B%2Cls_deltime-B%2Cls_deltime-ogA%2Cls_deltime-feA%2Calgolia-tag%2Cfbt-a%2Calgolia-cat%2Ccartoos-a%2Ccartfiller-a%2Ccatnav-hide%2Ces-product%2Ces-promo%2Ccatbubog-B%2Ces-brand%2Csbanner-A%2Ccount-a%2Ccam-a%2Cpriceperpiece-b%2Cls_deltime-sortA&includeTagDetails=true&metaData=%5Bobject%20Object%5D&orderType=DELIVERY&page=10&pageType=search&query=prawn&storeId=165&url=prawn\n",
      "https://website-api.omni.fairprice.com.sg/api/product/v2?experiments=searchVariant-B%2CtimerVariant-Z%2CinlineBanner-A%2CsubstitutionBSVariant-B%2Cgv-A%2Cshelflife-B%2Cds-A%2Cls_comsl-B%2Cls_deltime-B%2Cls_deltime-ogA%2Cls_deltime-feA%2Calgolia-tag%2Cfbt-a%2Calgolia-cat%2Ccartoos-a%2Ccartfiller-a%2Ccatnav-hide%2Ces-product%2Ces-promo%2Ccatbubog-B%2Ces-brand%2Csbanner-A%2Ccount-a%2Ccam-a%2Cpriceperpiece-b%2Cls_deltime-sortA&includeTagDetails=true&metaData=%5Bobject%20Object%5D&orderType=DELIVERY&page=1&pageType=search&query=stock&storeId=165&url=stock\n",
      "https://website-api.omni.fairprice.com.sg/api/product/v2?experiments=searchVariant-B%2CtimerVariant-Z%2CinlineBanner-A%2CsubstitutionBSVariant-B%2Cgv-A%2Cshelflife-B%2Cds-A%2Cls_comsl-B%2Cls_deltime-B%2Cls_deltime-ogA%2Cls_deltime-feA%2Calgolia-tag%2Cfbt-a%2Calgolia-cat%2Ccartoos-a%2Ccartfiller-a%2Ccatnav-hide%2Ces-product%2Ces-promo%2Ccatbubog-B%2Ces-brand%2Csbanner-A%2Ccount-a%2Ccam-a%2Cpriceperpiece-b%2Cls_deltime-sortA&includeTagDetails=true&metaData=%5Bobject%20Object%5D&orderType=DELIVERY&page=2&pageType=search&query=stock&storeId=165&url=stock\n",
      "https://website-api.omni.fairprice.com.sg/api/product/v2?experiments=searchVariant-B%2CtimerVariant-Z%2CinlineBanner-A%2CsubstitutionBSVariant-B%2Cgv-A%2Cshelflife-B%2Cds-A%2Cls_comsl-B%2Cls_deltime-B%2Cls_deltime-ogA%2Cls_deltime-feA%2Calgolia-tag%2Cfbt-a%2Calgolia-cat%2Ccartoos-a%2Ccartfiller-a%2Ccatnav-hide%2Ces-product%2Ces-promo%2Ccatbubog-B%2Ces-brand%2Csbanner-A%2Ccount-a%2Ccam-a%2Cpriceperpiece-b%2Cls_deltime-sortA&includeTagDetails=true&metaData=%5Bobject%20Object%5D&orderType=DELIVERY&page=3&pageType=search&query=stock&storeId=165&url=stock\n",
      "https://website-api.omni.fairprice.com.sg/api/product/v2?experiments=searchVariant-B%2CtimerVariant-Z%2CinlineBanner-A%2CsubstitutionBSVariant-B%2Cgv-A%2Cshelflife-B%2Cds-A%2Cls_comsl-B%2Cls_deltime-B%2Cls_deltime-ogA%2Cls_deltime-feA%2Calgolia-tag%2Cfbt-a%2Calgolia-cat%2Ccartoos-a%2Ccartfiller-a%2Ccatnav-hide%2Ces-product%2Ces-promo%2Ccatbubog-B%2Ces-brand%2Csbanner-A%2Ccount-a%2Ccam-a%2Cpriceperpiece-b%2Cls_deltime-sortA&includeTagDetails=true&metaData=%5Bobject%20Object%5D&orderType=DELIVERY&page=4&pageType=search&query=stock&storeId=165&url=stock\n",
      "https://website-api.omni.fairprice.com.sg/api/product/v2?experiments=searchVariant-B%2CtimerVariant-Z%2CinlineBanner-A%2CsubstitutionBSVariant-B%2Cgv-A%2Cshelflife-B%2Cds-A%2Cls_comsl-B%2Cls_deltime-B%2Cls_deltime-ogA%2Cls_deltime-feA%2Calgolia-tag%2Cfbt-a%2Calgolia-cat%2Ccartoos-a%2Ccartfiller-a%2Ccatnav-hide%2Ces-product%2Ces-promo%2Ccatbubog-B%2Ces-brand%2Csbanner-A%2Ccount-a%2Ccam-a%2Cpriceperpiece-b%2Cls_deltime-sortA&includeTagDetails=true&metaData=%5Bobject%20Object%5D&orderType=DELIVERY&page=5&pageType=search&query=stock&storeId=165&url=stock\n",
      "https://website-api.omni.fairprice.com.sg/api/product/v2?experiments=searchVariant-B%2CtimerVariant-Z%2CinlineBanner-A%2CsubstitutionBSVariant-B%2Cgv-A%2Cshelflife-B%2Cds-A%2Cls_comsl-B%2Cls_deltime-B%2Cls_deltime-ogA%2Cls_deltime-feA%2Calgolia-tag%2Cfbt-a%2Calgolia-cat%2Ccartoos-a%2Ccartfiller-a%2Ccatnav-hide%2Ces-product%2Ces-promo%2Ccatbubog-B%2Ces-brand%2Csbanner-A%2Ccount-a%2Ccam-a%2Cpriceperpiece-b%2Cls_deltime-sortA&includeTagDetails=true&metaData=%5Bobject%20Object%5D&orderType=DELIVERY&page=6&pageType=search&query=stock&storeId=165&url=stock\n",
      "https://website-api.omni.fairprice.com.sg/api/product/v2?experiments=searchVariant-B%2CtimerVariant-Z%2CinlineBanner-A%2CsubstitutionBSVariant-B%2Cgv-A%2Cshelflife-B%2Cds-A%2Cls_comsl-B%2Cls_deltime-B%2Cls_deltime-ogA%2Cls_deltime-feA%2Calgolia-tag%2Cfbt-a%2Calgolia-cat%2Ccartoos-a%2Ccartfiller-a%2Ccatnav-hide%2Ces-product%2Ces-promo%2Ccatbubog-B%2Ces-brand%2Csbanner-A%2Ccount-a%2Ccam-a%2Cpriceperpiece-b%2Cls_deltime-sortA&includeTagDetails=true&metaData=%5Bobject%20Object%5D&orderType=DELIVERY&page=7&pageType=search&query=stock&storeId=165&url=stock\n",
      "https://website-api.omni.fairprice.com.sg/api/product/v2?experiments=searchVariant-B%2CtimerVariant-Z%2CinlineBanner-A%2CsubstitutionBSVariant-B%2Cgv-A%2Cshelflife-B%2Cds-A%2Cls_comsl-B%2Cls_deltime-B%2Cls_deltime-ogA%2Cls_deltime-feA%2Calgolia-tag%2Cfbt-a%2Calgolia-cat%2Ccartoos-a%2Ccartfiller-a%2Ccatnav-hide%2Ces-product%2Ces-promo%2Ccatbubog-B%2Ces-brand%2Csbanner-A%2Ccount-a%2Ccam-a%2Cpriceperpiece-b%2Cls_deltime-sortA&includeTagDetails=true&metaData=%5Bobject%20Object%5D&orderType=DELIVERY&page=8&pageType=search&query=stock&storeId=165&url=stock\n",
      "https://website-api.omni.fairprice.com.sg/api/product/v2?experiments=searchVariant-B%2CtimerVariant-Z%2CinlineBanner-A%2CsubstitutionBSVariant-B%2Cgv-A%2Cshelflife-B%2Cds-A%2Cls_comsl-B%2Cls_deltime-B%2Cls_deltime-ogA%2Cls_deltime-feA%2Calgolia-tag%2Cfbt-a%2Calgolia-cat%2Ccartoos-a%2Ccartfiller-a%2Ccatnav-hide%2Ces-product%2Ces-promo%2Ccatbubog-B%2Ces-brand%2Csbanner-A%2Ccount-a%2Ccam-a%2Cpriceperpiece-b%2Cls_deltime-sortA&includeTagDetails=true&metaData=%5Bobject%20Object%5D&orderType=DELIVERY&page=9&pageType=search&query=stock&storeId=165&url=stock\n",
      "https://website-api.omni.fairprice.com.sg/api/product/v2?experiments=searchVariant-B%2CtimerVariant-Z%2CinlineBanner-A%2CsubstitutionBSVariant-B%2Cgv-A%2Cshelflife-B%2Cds-A%2Cls_comsl-B%2Cls_deltime-B%2Cls_deltime-ogA%2Cls_deltime-feA%2Calgolia-tag%2Cfbt-a%2Calgolia-cat%2Ccartoos-a%2Ccartfiller-a%2Ccatnav-hide%2Ces-product%2Ces-promo%2Ccatbubog-B%2Ces-brand%2Csbanner-A%2Ccount-a%2Ccam-a%2Cpriceperpiece-b%2Cls_deltime-sortA&includeTagDetails=true&metaData=%5Bobject%20Object%5D&orderType=DELIVERY&page=10&pageType=search&query=stock&storeId=165&url=stock\n"
     ]
    }
   ],
   "source": [
    "for ingr in ingredients:\n",
    "    for page in range(1, 11): # Loop through pages 1 to 10\n",
    "        url = f'https://website-api.omni.fairprice.com.sg/api/product/v2?experiments=searchVariant-B%2CtimerVariant-Z%2CinlineBanner-A%2CsubstitutionBSVariant-B%2Cgv-A%2Cshelflife-B%2Cds-A%2Cls_comsl-B%2Cls_deltime-B%2Cls_deltime-ogA%2Cls_deltime-feA%2Calgolia-tag%2Cfbt-a%2Calgolia-cat%2Ccartoos-a%2Ccartfiller-a%2Ccatnav-hide%2Ces-product%2Ces-promo%2Ccatbubog-B%2Ces-brand%2Csbanner-A%2Ccount-a%2Ccam-a%2Cpriceperpiece-b%2Cls_deltime-sortA&includeTagDetails=true&metaData=%5Bobject%20Object%5D&orderType=DELIVERY&page={page}&pageType=search&query='+ingr+'&storeId=165&url='+ingr\n",
    "        print(url)\n",
    "        f = urllib.request.urlopen(url)\n",
    "        returnObj = json.loads(f.read().decode('utf-8'))\n",
    "        \n",
    "        if 'product' not in returnObj['data']:\n",
    "            print(f'No Item {ingr}')\n",
    "            continue\n",
    "        \n",
    "        data = returnObj['data']['product']\n",
    "        if not data: # Check if there's no data on the page\n",
    "            break # If no data, break the loop and move to the next ingredient\n",
    "\n",
    "        # Loop over all products\n",
    "        for i, product in enumerate(data):\n",
    "            dirpath = ingr.replace('%20', '_')\n",
    "            if not os.path.exists(dirpath):\n",
    "               os.makedirs(dirpath)\n",
    "            # Loop over all images in the current product\n",
    "            if not product['images']:\n",
    "                print(f'No Image {ingr} {i} {product[\"name\"]}')\n",
    "                continue\n",
    "            for j, img in enumerate(product['images']):\n",
    "                # Create a unique filename for each image, including the page number\n",
    "                filename = f\"{dirpath}/page_{page}_product_{i}_image_{j}.jpg\"\n",
    "                # Download the image\n",
    "                urllib.request.urlretrieve(img, filename)\n",
    "        \n",
    "        delay = random.uniform(2, 6) # Random delay between 2 and 5 seconds\n",
    "        time.sleep(delay) # Apply the random delay\n"
   ]
  },
  {
   "cell_type": "code",
   "execution_count": 24,
   "id": "79a42695",
   "metadata": {},
   "outputs": [
    {
     "name": "stdout",
     "output_type": "stream",
     "text": [
      "{'photos': {'page': 1, 'pages': 1, 'perpage': 100, 'total': 2, 'photo': [{'id': '15931423255', 'owner': '53633474@N07', 'secret': '752fedef62', 'server': '7478', 'farm': 8, 'title': 'Shabu Shabu - Stock Broth', 'ispublic': 1, 'isfriend': 0, 'isfamily': 0, 'url_c': 'https://live.staticflickr.com/7478/15931423255_752fedef62_c.jpg', 'height_c': 800, 'width_c': 534}, {'id': '15325795723', 'owner': '53633474@N07', 'secret': '61cd6afe1a', 'server': '8645', 'farm': 9, 'title': 'Shabu Shabu', 'ispublic': 1, 'isfriend': 0, 'isfamily': 0, 'url_c': 'https://live.staticflickr.com/8645/15325795723_61cd6afe1a_c.jpg', 'height_c': 800, 'width_c': 534}]}, 'stat': 'ok'}\n",
      "Processing image 0 for stock broth: URL = https://live.staticflickr.com/7478/15931423255_752fedef62_c.jpg\n",
      "Downloading image 0 for stock broth: https://live.staticflickr.com/7478/15931423255_752fedef62_c.jpg\n",
      "Processing image 1 for stock broth: URL = https://live.staticflickr.com/8645/15325795723_61cd6afe1a_c.jpg\n",
      "Downloading image 1 for stock broth: https://live.staticflickr.com/8645/15325795723_61cd6afe1a_c.jpg\n"
     ]
    }
   ],
   "source": [
    "# getting spring onions images from Flickr as there aren't enough on Fairprice\n",
    "\n",
    "def download_images(keywords, api_key, api_secret):\n",
    "    flickr = flickrapi.FlickrAPI(api_key, api_secret, cache=True, format='parsed-json')\n",
    "\n",
    "    for keyword in keywords:\n",
    "        # Create a directory for the keyword if it doesn't exist\n",
    "        dirpath = keyword.replace(' ', '_')\n",
    "        if not os.path.exists(dirpath):\n",
    "            os.makedirs(dirpath)\n",
    "\n",
    "        # Download the images\n",
    "        count = 0\n",
    "        page = 1\n",
    "        photos = flickr.photos.search(text=keyword,\n",
    "                                      tag_mode='all',\n",
    "                                      tags=keyword,\n",
    "                                      extras='url_c',\n",
    "                                      per_page=100,\n",
    "                                      page=page,\n",
    "                                      sort='relevance')\n",
    "        print(photos)  # Print the entire response for inspection\n",
    "\n",
    "        for photo in photos['photos']['photo']:\n",
    "            if count >= 100:\n",
    "                break\n",
    "            url = photo.get('url_c')\n",
    "            print(f\"Processing image {count} for {keyword}: URL = {url}\")\n",
    "            if url is not None:\n",
    "                print(f\"Downloading image {count} for {keyword}: {url}\")\n",
    "                filename = f\"{dirpath}/image_{count}.jpg\"\n",
    "                urllib.request.urlretrieve(url, filename)\n",
    "                count += 1\n",
    "                # Random delay between 2 and 5 seconds\n",
    "                delay = random.uniform(2, 5)\n",
    "                time.sleep(delay)\n",
    "            else:\n",
    "                print(f\"Skipping image {count} for {keyword}: No URL found\")\n",
    "\n",
    "                \n",
    "api_key = 'your_key_here'\n",
    "api_secret = 'your_key_here'\n",
    "keywords = ['spring onions']\n",
    "download_images(keywords, api_key, api_secret)\n"
   ]
  },
  {
   "cell_type": "markdown",
   "id": "758ad5f2",
   "metadata": {},
   "source": [
    "#### Inspection of images \n",
    "\n",
    "Images that were not meaningful for training were excluded, e.g. irrelevant products, back of pack images, images with marketing and promotional ads within. \n",
    "\n",
    "These images were annotated on https://app.roboflow.com/ and dataset was generated for modelling. \n",
    "\n",
    "Refer to the last part of this series: 4) Custom training with object detection model (Google colab). "
   ]
  }
 ],
 "metadata": {
  "kernelspec": {
   "display_name": "Python 3 (ipykernel)",
   "language": "python",
   "name": "python3"
  },
  "language_info": {
   "codemirror_mode": {
    "name": "ipython",
    "version": 3
   },
   "file_extension": ".py",
   "mimetype": "text/x-python",
   "name": "python",
   "nbconvert_exporter": "python",
   "pygments_lexer": "ipython3",
   "version": "3.10.11"
  },
  "vp": {
   "vp_config_version": "1.0.0",
   "vp_menu_width": 273,
   "vp_note_display": false,
   "vp_note_width": 0,
   "vp_position": {
    "width": 278
   },
   "vp_section_display": false,
   "vp_signature": "VisualPython"
  }
 },
 "nbformat": 4,
 "nbformat_minor": 5
}
